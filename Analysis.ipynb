{
 "cells": [
  {
   "cell_type": "markdown",
   "id": "spiritual-insurance",
   "metadata": {},
   "source": [
    "### Imports "
   ]
  },
  {
   "cell_type": "code",
   "execution_count": 1,
   "id": "regular-auditor",
   "metadata": {},
   "outputs": [],
   "source": [
    "import pandas as pd\n",
    "import numpy as np\n",
    "import matplotlib.pyplot as plt\n",
    "import joblib\n",
    "import requests\n",
    "import time\n",
    "import json\n",
    "import time\n",
    "from sklearn.model_selection import train_test_split\n",
    "from sklearn.preprocessing import MinMaxScaler\n",
    "from sklearn.linear_model import LogisticRegression\n",
    "from sklearn.tree import DecisionTreeClassifier\n",
    "from sklearn.ensemble import RandomForestClassifier\n",
    "from sklearn.svm import SVC\n",
    "from sklearn.metrics import roc_curve, roc_auc_score\n",
    "from sklearn.model_selection import RandomizedSearchCV, RepeatedStratifiedKFold\n",
    "from imblearn.over_sampling import SMOTE\n",
    "from xgboost import XGBClassifier\n",
    "import os"
   ]
  },
  {
   "cell_type": "markdown",
   "id": "silver-surgeon",
   "metadata": {},
   "source": [
    "### Data Loading "
   ]
  },
  {
   "cell_type": "code",
   "execution_count": 2,
   "id": "nominated-probability",
   "metadata": {},
   "outputs": [],
   "source": [
    "#Load Maintenance Dataset into df\n",
    "df = pd.read_csv(\"Data/predictive_maintenance.csv\")"
   ]
  },
  {
   "cell_type": "markdown",
   "id": "equal-liver",
   "metadata": {},
   "source": [
    "### Data Preprocessing "
   ]
  },
  {
   "cell_type": "markdown",
   "id": "after-morgan",
   "metadata": {},
   "source": [
    "Before building any models for predictions, the data needs to be cleaned and prepared for prediction.\n",
    "\n",
    "First thing is to normalize all features (metrics). This means to scale them down between 0 and 1, for this step I use Sklearn MinMaxScaler."
   ]
  },
  {
   "cell_type": "code",
   "execution_count": 3,
   "id": "opposed-poker",
   "metadata": {},
   "outputs": [],
   "source": [
    "#Iterate over all columns in dataframe\n",
    "for column in df:\n",
    "    #Check if column contains \"metric\" inside of it\n",
    "    if \"metric\" in column:\n",
    "        #Start MinMaxScaler\n",
    "        scaler = MinMaxScaler()\n",
    "        \n",
    "        #Fit Scaler on column\n",
    "        scaler.fit(df[column].values.reshape(-1,1))\n",
    "        \n",
    "        #Replace column data with transformed data\n",
    "        df[column] = scaler.transform(df[column].values.reshape(-1,1))"
   ]
  },
  {
   "cell_type": "code",
   "execution_count": 4,
   "id": "ceramic-observer",
   "metadata": {},
   "outputs": [],
   "source": [
    "#Filter features to those with 'metric' in the column name\n",
    "features = df[[i for i in df.columns if \"metric\" in i ]]\n",
    "\n",
    "#Exctract failure column as target\n",
    "target = df[\"failure\"]"
   ]
  },
  {
   "cell_type": "code",
   "execution_count": 63,
   "id": "everyday-connection",
   "metadata": {},
   "outputs": [
    {
     "data": {
      "text/html": [
       "<div>\n",
       "<style scoped>\n",
       "    .dataframe tbody tr th:only-of-type {\n",
       "        vertical-align: middle;\n",
       "    }\n",
       "\n",
       "    .dataframe tbody tr th {\n",
       "        vertical-align: top;\n",
       "    }\n",
       "\n",
       "    .dataframe thead th {\n",
       "        text-align: right;\n",
       "    }\n",
       "</style>\n",
       "<table border=\"1\" class=\"dataframe\">\n",
       "  <thead>\n",
       "    <tr style=\"text-align: right;\">\n",
       "      <th></th>\n",
       "      <th>metric1</th>\n",
       "      <th>metric2</th>\n",
       "      <th>metric3</th>\n",
       "      <th>metric4</th>\n",
       "      <th>metric5</th>\n",
       "      <th>metric6</th>\n",
       "      <th>metric8</th>\n",
       "      <th>metric9</th>\n",
       "    </tr>\n",
       "  </thead>\n",
       "  <tbody>\n",
       "    <tr>\n",
       "      <th>0</th>\n",
       "      <td>0.198522</td>\n",
       "      <td>0.997045</td>\n",
       "      <td>0.0</td>\n",
       "      <td>0.504802</td>\n",
       "      <td>0.072165</td>\n",
       "      <td>0.056967</td>\n",
       "      <td>0.067308</td>\n",
       "      <td>0.000053</td>\n",
       "    </tr>\n",
       "    <tr>\n",
       "      <th>1</th>\n",
       "      <td>0.753950</td>\n",
       "      <td>0.008127</td>\n",
       "      <td>0.0</td>\n",
       "      <td>0.002401</td>\n",
       "      <td>0.082474</td>\n",
       "      <td>0.562811</td>\n",
       "      <td>0.038462</td>\n",
       "      <td>0.000160</td>\n",
       "    </tr>\n",
       "    <tr>\n",
       "      <th>2</th>\n",
       "      <td>0.558815</td>\n",
       "      <td>0.997168</td>\n",
       "      <td>0.0</td>\n",
       "      <td>0.243697</td>\n",
       "      <td>0.298969</td>\n",
       "      <td>0.326187</td>\n",
       "      <td>0.009615</td>\n",
       "      <td>0.000000</td>\n",
       "    </tr>\n",
       "    <tr>\n",
       "      <th>3</th>\n",
       "      <td>0.771078</td>\n",
       "      <td>0.031400</td>\n",
       "      <td>0.0</td>\n",
       "      <td>0.000000</td>\n",
       "      <td>0.051546</td>\n",
       "      <td>0.057080</td>\n",
       "      <td>0.038462</td>\n",
       "      <td>0.000053</td>\n",
       "    </tr>\n",
       "    <tr>\n",
       "      <th>4</th>\n",
       "      <td>0.903010</td>\n",
       "      <td>0.000000</td>\n",
       "      <td>0.0</td>\n",
       "      <td>0.000000</td>\n",
       "      <td>0.134021</td>\n",
       "      <td>0.471763</td>\n",
       "      <td>0.000000</td>\n",
       "      <td>0.000000</td>\n",
       "    </tr>\n",
       "    <tr>\n",
       "      <th>5</th>\n",
       "      <td>0.634875</td>\n",
       "      <td>0.020195</td>\n",
       "      <td>0.0</td>\n",
       "      <td>0.010804</td>\n",
       "      <td>0.092784</td>\n",
       "      <td>0.445457</td>\n",
       "      <td>0.000000</td>\n",
       "      <td>0.000000</td>\n",
       "    </tr>\n",
       "    <tr>\n",
       "      <th>6</th>\n",
       "      <td>0.222381</td>\n",
       "      <td>0.996429</td>\n",
       "      <td>0.0</td>\n",
       "      <td>0.096038</td>\n",
       "      <td>0.103093</td>\n",
       "      <td>0.278851</td>\n",
       "      <td>0.000000</td>\n",
       "      <td>0.000107</td>\n",
       "    </tr>\n",
       "    <tr>\n",
       "      <th>7</th>\n",
       "      <td>0.264190</td>\n",
       "      <td>0.000000</td>\n",
       "      <td>0.0</td>\n",
       "      <td>0.000600</td>\n",
       "      <td>0.185567</td>\n",
       "      <td>0.746791</td>\n",
       "      <td>0.019231</td>\n",
       "      <td>0.000160</td>\n",
       "    </tr>\n",
       "    <tr>\n",
       "      <th>8</th>\n",
       "      <td>0.653867</td>\n",
       "      <td>0.000000</td>\n",
       "      <td>0.0</td>\n",
       "      <td>0.005402</td>\n",
       "      <td>0.061856</td>\n",
       "      <td>0.335670</td>\n",
       "      <td>0.019231</td>\n",
       "      <td>0.000000</td>\n",
       "    </tr>\n",
       "    <tr>\n",
       "      <th>9</th>\n",
       "      <td>0.976077</td>\n",
       "      <td>0.018224</td>\n",
       "      <td>0.0</td>\n",
       "      <td>0.000000</td>\n",
       "      <td>0.134021</td>\n",
       "      <td>0.389832</td>\n",
       "      <td>0.009615</td>\n",
       "      <td>0.000000</td>\n",
       "    </tr>\n",
       "  </tbody>\n",
       "</table>\n",
       "</div>"
      ],
      "text/plain": [
       "    metric1   metric2  metric3   metric4   metric5   metric6   metric8  \\\n",
       "0  0.198522  0.997045      0.0  0.504802  0.072165  0.056967  0.067308   \n",
       "1  0.753950  0.008127      0.0  0.002401  0.082474  0.562811  0.038462   \n",
       "2  0.558815  0.997168      0.0  0.243697  0.298969  0.326187  0.009615   \n",
       "3  0.771078  0.031400      0.0  0.000000  0.051546  0.057080  0.038462   \n",
       "4  0.903010  0.000000      0.0  0.000000  0.134021  0.471763  0.000000   \n",
       "5  0.634875  0.020195      0.0  0.010804  0.092784  0.445457  0.000000   \n",
       "6  0.222381  0.996429      0.0  0.096038  0.103093  0.278851  0.000000   \n",
       "7  0.264190  0.000000      0.0  0.000600  0.185567  0.746791  0.019231   \n",
       "8  0.653867  0.000000      0.0  0.005402  0.061856  0.335670  0.019231   \n",
       "9  0.976077  0.018224      0.0  0.000000  0.134021  0.389832  0.009615   \n",
       "\n",
       "    metric9  \n",
       "0  0.000053  \n",
       "1  0.000160  \n",
       "2  0.000000  \n",
       "3  0.000053  \n",
       "4  0.000000  \n",
       "5  0.000000  \n",
       "6  0.000107  \n",
       "7  0.000160  \n",
       "8  0.000000  \n",
       "9  0.000000  "
      ]
     },
     "execution_count": 63,
     "metadata": {},
     "output_type": "execute_result"
    }
   ],
   "source": [
    "features.head(10)\n"
   ]
  },
  {
   "cell_type": "markdown",
   "id": "distributed-attention",
   "metadata": {},
   "source": [
    "Calculate and display correlations among the features."
   ]
  },
  {
   "cell_type": "code",
   "execution_count": 6,
   "id": "furnished-antique",
   "metadata": {
    "scrolled": false
   },
   "outputs": [
    {
     "data": {
      "image/png": "[encoded data removed]",
      "text/plain": [
       "<Figure size 720x720 with 1 Axes>"
      ]
     },
     "metadata": {
      "needs_background": "light"
     },
     "output_type": "display_data"
    }
   ],
   "source": [
    "#Calculate pearson correlation for all features\n",
    "correaltions = features.corr().round(2).values\n",
    "\n",
    "#Create Fiure\n",
    "fig, ax = plt.subplots(figsize=(10,10))\n",
    "im = ax.imshow(correaltions)\n",
    "\n",
    "#Set figure Size\n",
    "ax.set_xticks(np.arange(features.shape[1]))\n",
    "ax.set_yticks(np.arange(features.shape[1]))\n",
    "\n",
    "#label With Features\n",
    "ax.set_xticklabels(features.columns)\n",
    "ax.set_yticklabels(features.columns)\n",
    "\n",
    "# Rotate the tick labels and set their alignment.\n",
    "plt.setp(ax.get_xticklabels(), rotation=45, ha=\"right\",\n",
    "         rotation_mode=\"anchor\")\n",
    "\n",
    "# Loop over data dimensions and create text annotations.\n",
    "for i in range(features.shape[1]):\n",
    "    for j in range(features.shape[1]):\n",
    "        text = ax.text(j, i, correaltions[i, j],\n",
    "                       ha=\"center\", va=\"center\", color=\"w\")\n",
    "\n",
    "ax.set_title(\"Feature Correlations\")\n",
    "fig.tight_layout()\n",
    "plt.show()"
   ]
  },
  {
   "cell_type": "markdown",
   "id": "vocational-basketball",
   "metadata": {},
   "source": [
    "What we see is that metric7 and metric8 have perfect correlation, meaning they provide essentially the same information when it comes to prediction, therefore one will be removed from the feature set. We also see that metric3 and metric9 have 0.5 correlation, which is substantially higher than the rest. The remaining features are all uncorrelated with each other, which is good as they could be useful features to predict with."
   ]
  },
  {
   "cell_type": "code",
   "execution_count": 7,
   "id": "english-tuning",
   "metadata": {},
   "outputs": [],
   "source": [
    "#Drop metric7 due to perfect correlation with metric8\n",
    "features = features.drop(\"metric7\", axis = 1)"
   ]
  },
  {
   "cell_type": "markdown",
   "id": "resistant-victorian",
   "metadata": {},
   "source": [
    "Next I will split the data using sklearn's train_test_split which will provide us with a test and a train dataset for both the targets and features."
   ]
  },
  {
   "cell_type": "code",
   "execution_count": 8,
   "id": "revised-barrier",
   "metadata": {},
   "outputs": [],
   "source": [
    "#Split data\n",
    "x_train, x_test, y_train, y_test = train_test_split(features, target, random_state=42)"
   ]
  },
  {
   "cell_type": "markdown",
   "id": "martial-silly",
   "metadata": {},
   "source": [
    "**Dealing with imbalanced data**"
   ]
  },
  {
   "cell_type": "code",
   "execution_count": 9,
   "id": "military-bible",
   "metadata": {
    "scrolled": true
   },
   "outputs": [
    {
     "data": {
      "text/plain": [
       "0    93281\n",
       "1       89\n",
       "Name: failure, dtype: int64"
      ]
     },
     "execution_count": 9,
     "metadata": {},
     "output_type": "execute_result"
    }
   ],
   "source": [
    "y_train.value_counts()"
   ]
  },
  {
   "cell_type": "markdown",
   "id": "exact-humidity",
   "metadata": {},
   "source": [
    "From what we see, the dataset has severely imbalanced data among the failure and non-failure classes, with a 1:1000 ratio between the two classes respectively. Due to this, I combine  **oversampling** and **undersampling** to balance the data. This is done by randomly duplicating failure data points and removing non-failure datapoints.\n",
    "\n",
    "To do this, I set a datapoint expected size of that of the optimum sample size, after testing for the optimum size of each class type below, and I will undersample the negative data and oversample the positive data until I arrive at that optimum sample size. First I need to figure out what the optimal number of datapoints is:"
   ]
  },
  {
   "cell_type": "code",
   "execution_count": 10,
   "id": "looking-willow",
   "metadata": {},
   "outputs": [],
   "source": [
    "#Set number of expected datapoints\n",
    "EXPECTED_DATAPOINT_LIST = [100000, 75000, 50000, 25000, 20000, 15000, 12500, 10000, 8500, 7500, 5000, 2500, 1000, 500, 200]\n",
    "auc_values = []\n",
    "for expected_datapoints in EXPECTED_DATAPOINT_LIST:\n",
    "    #Split data\n",
    "    x_train, x_test, y_train, y_test = train_test_split(features, target)\n",
    "    start = time.time()\n",
    "    #Undersample Non-Failure Data\n",
    "    non_failure_indicies = np.where(y_train == 0)[0]\n",
    "\n",
    "    #Sample non failure indicies\n",
    "    non_failure_indicies = np.random.choice(non_failure_indicies, expected_datapoints)\n",
    "\n",
    "    #Collect all failure data\n",
    "    failure_indicies = np.where(y_train == 1)[0]\n",
    "\n",
    "    #Filter data to limited non failure and all failure data\n",
    "    x_train = x_train.iloc[np.append(non_failure_indicies, failure_indicies)]\n",
    "    y_train = y_train.iloc[np.append(non_failure_indicies, failure_indicies)]\n",
    "\n",
    "    #Oversample Failure Data using SMOTE\n",
    "    oversample = SMOTE()\n",
    "    x_train, y_train = oversample.fit_resample(x_train, y_train)\n",
    "    \n",
    "    model = RandomForestClassifier().fit(x_train, y_train)\n",
    "    probabilites = model.predict_proba(x_test)[:, 1]\n",
    "    \n",
    "    auc_values.append(round(roc_auc_score(y_test, probabilites), 2))"
   ]
  },
  {
   "cell_type": "code",
   "execution_count": 11,
   "id": "asian-theta",
   "metadata": {},
   "outputs": [
    {
     "data": {
      "text/plain": [
       "Text(0, 0.5, 'AUC')"
      ]
     },
     "execution_count": 11,
     "metadata": {},
     "output_type": "execute_result"
    },
    {
     "data": {
      "image/png": "[encoded data removed]",
      "text/plain": [
       "<Figure size 720x360 with 1 Axes>"
      ]
     },
     "metadata": {
      "needs_background": "light"
     },
     "output_type": "display_data"
    }
   ],
   "source": [
    "fig = plt.figure(figsize=(10,5))\n",
    "plt.plot(EXPECTED_DATAPOINT_LIST, auc_values)\n",
    "plt.title('AUC of Random Forest accross different training dataset sizes')\n",
    "plt.xlabel('Datapoints')\n",
    "plt.ylabel('AUC')"
   ]
  },
  {
   "cell_type": "code",
   "execution_count": 12,
   "id": "marked-massachusetts",
   "metadata": {
    "scrolled": true
   },
   "outputs": [
    {
     "data": {
      "text/plain": [
       "100000    0.88\n",
       "75000     0.85\n",
       "50000     0.78\n",
       "25000     0.85\n",
       "20000     0.86\n",
       "15000     0.87\n",
       "12500     0.83\n",
       "10000     0.82\n",
       "8500      0.81\n",
       "7500      0.86\n",
       "5000      0.82\n",
       "2500      0.91\n",
       "1000      0.92\n",
       "500       0.89\n",
       "200       0.90\n",
       "dtype: float64"
      ]
     },
     "execution_count": 12,
     "metadata": {},
     "output_type": "execute_result"
    }
   ],
   "source": [
    "pd.Series(auc_values, index = EXPECTED_DATAPOINT_LIST)"
   ]
  },
  {
   "cell_type": "markdown",
   "id": "harmful-feeding",
   "metadata": {},
   "source": [
    "We Find the best number of datapoints for auc is 200-1000, 1000 is used for more data"
   ]
  },
  {
   "cell_type": "code",
   "execution_count": 13,
   "id": "surface-hardwood",
   "metadata": {},
   "outputs": [],
   "source": [
    "#Split data\n",
    "x_train, x_test, y_train, y_test = train_test_split(features, target, random_state=42)"
   ]
  },
  {
   "cell_type": "code",
   "execution_count": 14,
   "id": "intellectual-albany",
   "metadata": {},
   "outputs": [],
   "source": [
    "#Set number of expected datapoints\n",
    "EXPECTED_DATAPOINTS = 1000\n",
    "\n",
    "#Undersample Non-Failure Data\n",
    "non_failure_indicies = np.where(y_train == 0)[0]\n",
    "\n",
    "#Sample non failure indicies\n",
    "non_failure_indicies = np.random.choice(non_failure_indicies, EXPECTED_DATAPOINTS)\n",
    "\n",
    "#Collect all failure data\n",
    "failure_indicies = np.where(y_train == 1)[0]\n",
    "\n",
    "#Filter data to limited non failure and all failure data\n",
    "x_train = x_train.iloc[np.append(non_failure_indicies, failure_indicies)]\n",
    "y_train = y_train.iloc[np.append(non_failure_indicies, failure_indicies)]\n",
    "\n",
    "#Oversample Failure Data using SMOTE\n",
    "oversample = SMOTE()\n",
    "x_train, y_train = oversample.fit_resample(x_train, y_train)"
   ]
  },
  {
   "cell_type": "code",
   "execution_count": 15,
   "id": "strange-basics",
   "metadata": {
    "scrolled": true
   },
   "outputs": [
    {
     "data": {
      "text/plain": [
       "0    1000\n",
       "1    1000\n",
       "Name: failure, dtype: int64"
      ]
     },
     "execution_count": 15,
     "metadata": {},
     "output_type": "execute_result"
    }
   ],
   "source": [
    "y_train.value_counts()"
   ]
  },
  {
   "cell_type": "markdown",
   "id": "accurate-carpet",
   "metadata": {},
   "source": [
    "Now that the dataset is balanced, we move next to model selection."
   ]
  },
  {
   "cell_type": "markdown",
   "id": "recorded-request",
   "metadata": {},
   "source": [
    "### Model Selection "
   ]
  },
  {
   "cell_type": "markdown",
   "id": "fewer-board",
   "metadata": {},
   "source": [
    "I will consider using the following classifiers for the classification task:\n",
    "- Logistic Regression\n",
    "- Random Forest\n",
    "- Decision Tree\n",
    "- XGBoost\n",
    "- Weighted Decision Tree\n",
    "- Weighted Random Forest\n",
    "- Linear SVM"
   ]
  },
  {
   "cell_type": "markdown",
   "id": "enormous-monroe",
   "metadata": {},
   "source": [
    "In order to evaluate the different classifiers, we need to choose a scoring metric from below:\n",
    "\n",
    "**Accuracy**  \n",
    "This metric tells us how many of the correct classes our model predicts. The problem with this metric is that it is not representative of how good our model is doing in this situation, due to the imbalanced nature of the data. For example, if the model predicts only 0's, it will arrive at a very high accuracy. In this case, we look towards relevance, a metric like precision and recall.\n",
    "\n",
    "**Precision**  \n",
    "Precision is a metric with a formula of True Positive / (True Positive + False Positive). This is a score of when our model does predict a class, how accurate that prediction is. Meaning if we have numerous positive predictions, but a low precision score, it is predicting many negatives as positives, whereas if the precision is high and number of positive predictions is low, it accurately predicts what labels are positive. \n",
    "\n",
    "**Recall**  \n",
    "Recall is a metric with a formula of True Positive / (True Positive + False Negative). This means that a model with a high recall value is very accurate when it predicts a positive (failure), and does not often incorrectly predict a positive to be a negative. \n",
    "\n",
    "**F1-Score**\n",
    "This is a harmonic balance between Precision and Recall, and is given by the following formula:\n",
    "                    F1-Score = 2 X (Precision x Recall)/(Precision + Recall)                \n",
    "\n",
    "**Area Under Curve**\n",
    "- AUC is a metric that combines both precision and recall.\n",
    "\n",
    "Since our business case asks for minimizing both false negatives as well as false positives, I will be testing both F1-score and AUC to use either one of them as the model evaluation metric.  "
   ]
  },
  {
   "cell_type": "code",
   "execution_count": 16,
   "id": "conservative-worth",
   "metadata": {},
   "outputs": [],
   "source": [
    "models = {\"Logistic Regression\": LogisticRegression, \n",
    "          \"Random Forest\":RandomForestClassifier, \n",
    "          \"Weighted Random Forest\": RandomForestClassifier,\n",
    "          \"Decsion Tree\":DecisionTreeClassifier, \n",
    "          \"Weighted Decision Tree\": DecisionTreeClassifier,\n",
    "          \"Linear SVM\":SVC,\n",
    "          \"XGBoost\": XGBClassifier}"
   ]
  },
  {
   "cell_type": "code",
   "execution_count": 17,
   "id": "fiscal-sheep",
   "metadata": {},
   "outputs": [],
   "source": [
    "colors = [\"orange\", \"green\", \"brown\", \"purple\", \"pink\",\"red\", \"cyan\"]"
   ]
  },
  {
   "cell_type": "code",
   "execution_count": 18,
   "id": "correct-iraqi",
   "metadata": {
    "scrolled": false
   },
   "outputs": [
    {
     "name": "stdout",
     "output_type": "stream",
     "text": [
      "[15:55:19] WARNING: C:/Users/Administrator/workspace/xgboost-win64_release_1.4.0/src/learner.cc:1095: Starting in XGBoost 1.3.0, the default evaluation metric used with the objective 'binary:logistic' was changed from 'error' to 'logloss'. Explicitly set eval_metric if you'd like to restore the old behavior.\n"
     ]
    },
    {
     "data": {
      "text/plain": [
       "<matplotlib.legend.Legend at 0x2060c96b9d0>"
      ]
     },
     "execution_count": 18,
     "metadata": {},
     "output_type": "execute_result"
    },
    {
     "data": {
      "image/png": "[encoded data removed]",
      "text/plain": [
       "<Figure size 1080x720 with 1 Axes>"
      ]
     },
     "metadata": {
      "needs_background": "light"
     },
     "output_type": "display_data"
    }
   ],
   "source": [
    "metrics = {}\n",
    "#Prepare Figure\n",
    "fig = plt.figure(figsize=(15,10))\n",
    "\n",
    "#Plot Base 0,1 line\n",
    "plt.plot([0,1], [0,1], linestyle='--', color='blue', linewidth=3)\n",
    "\n",
    "for index, (model_name, model) in enumerate(models.items()):\n",
    "    if model_name == \"Linear SVM\":\n",
    "        loaded = model(probability=True).fit(x_train, y_train)\n",
    "    elif model_name == \"XGBoost\":\n",
    "        loaded = model(use_label_encoder=False).fit(x_train, y_train)\n",
    "        \n",
    "    #Check for weighted models\n",
    "    elif model_name == \"Weighted Decision Tree\" or model_name == \"Weighted Random Forest\":\n",
    "        #Split data\n",
    "        x_tree_train, x_tree_test, y_tree_train, y_tree_test = train_test_split(features, target, random_state=42)\n",
    "        \n",
    "        weights = {0: y_tree_train.value_counts()[0] / x_tree_train.shape[0], 1: y_tree_train.value_counts()[1] / x_tree_train.shape[0]}\n",
    "        loaded = model(class_weight=weights).fit(x_tree_train, y_tree_train)\n",
    "    else:\n",
    "        loaded = model().fit(x_train, y_train)\n",
    "    \n",
    "    #Calculate Probabilities for failures\n",
    "    probabilites = loaded.predict_proba(x_test)[:, 1]\n",
    "    roc_data = roc_curve(y_test, probabilites)\n",
    "    \n",
    "    #Calculate AUC\n",
    "    auc = round(roc_auc_score(y_test, probabilites), 2)\n",
    "    plt.plot(roc_data[0], roc_data[1], label=f\"{model_name}, AUC: {auc}\",  linestyle='--', color=colors[index], linewidth=3)\n",
    "    \n",
    "# x label\n",
    "plt.xlabel('False Positive Rate')\n",
    "# y label\n",
    "plt.ylabel('True Positive rate')\n",
    "plt.legend(loc='best')"
   ]
  },
  {
   "cell_type": "markdown",
   "id": "polished-frederick",
   "metadata": {},
   "source": [
    "From what we can see, Random Forests performance is mostly the best, although sometimes ties with XGBoost. Therefore it is used as the model for prediction, an added benefit of using Random Forest is that we get a better understanding of the features used and their importance."
   ]
  },
  {
   "cell_type": "markdown",
   "id": "abstract-interest",
   "metadata": {},
   "source": [
    "### Grid Search to find best hyperparameters"
   ]
  },
  {
   "cell_type": "markdown",
   "id": "monthly-watershed",
   "metadata": {},
   "source": [
    "To determine the best combination of hyper-parameters, we use the test configurations of the following forest parameters:\n",
    "\n",
    "- bootstrap\n",
    "- max_depth\n",
    "- max_features\n",
    "- min_samples_leaf\n",
    "- min_samples_split\n",
    "- n_estimators\n",
    "\n",
    "The scoring for this gridsearch is set to the roc_auc."
   ]
  },
  {
   "cell_type": "code",
   "execution_count": 19,
   "id": "stainless-experience",
   "metadata": {},
   "outputs": [],
   "source": [
    "#Create random grid for CV to follow\n",
    "random_grid = {'bootstrap': [True, False],\n",
    "             'max_depth': [10, 50, 100, None],\n",
    "             'min_samples_leaf': [1, 2, 4],\n",
    "             'min_samples_split': [2, 5, 10],\n",
    "             'n_estimators': [200, 800, 1200, 1400, 1600, 2000]}"
   ]
  },
  {
   "cell_type": "code",
   "execution_count": 20,
   "id": "soviet-progressive",
   "metadata": {
    "scrolled": true
   },
   "outputs": [
    {
     "name": "stdout",
     "output_type": "stream",
     "text": [
      "Fitting 10 folds for each of 10 candidates, totalling 100 fits\n"
     ]
    },
    {
     "data": {
      "text/plain": [
       "RandomizedSearchCV(cv=10, estimator=RandomForestClassifier(), n_jobs=-1,\n",
       "                   param_distributions={'bootstrap': [True, False],\n",
       "                                        'max_depth': [10, 50, 100, None],\n",
       "                                        'min_samples_leaf': [1, 2, 4],\n",
       "                                        'min_samples_split': [2, 5, 10],\n",
       "                                        'n_estimators': [200, 800, 1200, 1400,\n",
       "                                                         1600, 2000]},\n",
       "                   scoring='roc_auc', verbose=10)"
      ]
     },
     "execution_count": 20,
     "metadata": {},
     "output_type": "execute_result"
    }
   ],
   "source": [
    "#Create GridSearch\n",
    "grid_search = RandomizedSearchCV(estimator = RandomForestClassifier(), \n",
    "                           param_distributions = random_grid,\n",
    "                           scoring = \"roc_auc\",\n",
    "                           verbose=10,\n",
    "                           cv=10,\n",
    "                           n_jobs = -1,)\n",
    "#Fit the gridsearch on the training data\n",
    "grid_search.fit(x_train, y_train)"
   ]
  },
  {
   "cell_type": "markdown",
   "id": "macro-healthcare",
   "metadata": {},
   "source": [
    "Below is the best parameters for this gridsearch:"
   ]
  },
  {
   "cell_type": "code",
   "execution_count": 21,
   "id": "frozen-recovery",
   "metadata": {
    "scrolled": true
   },
   "outputs": [
    {
     "data": {
      "text/plain": [
       "{'n_estimators': 1600,\n",
       " 'min_samples_split': 5,\n",
       " 'min_samples_leaf': 1,\n",
       " 'max_depth': None,\n",
       " 'bootstrap': False}"
      ]
     },
     "execution_count": 21,
     "metadata": {},
     "output_type": "execute_result"
    }
   ],
   "source": [
    "grid_search.best_params_"
   ]
  },
  {
   "cell_type": "markdown",
   "id": "raised-circulation",
   "metadata": {},
   "source": [
    "### Feature Importance"
   ]
  },
  {
   "cell_type": "markdown",
   "id": "bridal-pearl",
   "metadata": {},
   "source": [
    "Now that we have the best parameters, let's see the features that are used in prediction and their importance (impact on prediction)."
   ]
  },
  {
   "cell_type": "code",
   "execution_count": 22,
   "id": "attractive-gibson",
   "metadata": {},
   "outputs": [
    {
     "data": {
      "text/plain": [
       "RandomForestClassifier(bootstrap=False, max_depth=50, n_estimators=200)"
      ]
     },
     "execution_count": 22,
     "metadata": {},
     "output_type": "execute_result"
    }
   ],
   "source": [
    "#Build forest with best parameters from grid search\n",
    "forest = RandomForestClassifier(bootstrap= False,\n",
    "                             max_depth= 50,\n",
    "                             min_samples_leaf= 1,\n",
    "                             min_samples_split= 2,\n",
    "                             n_estimators= 200)\n",
    "\n",
    "#Train model on data\n",
    "forest.fit(x_train, y_train)"
   ]
  },
  {
   "cell_type": "code",
   "execution_count": 23,
   "id": "increasing-shannon",
   "metadata": {},
   "outputs": [],
   "source": [
    "#Collect feature importance\n",
    "importances = forest.feature_importances_\n",
    "\n",
    "#Store in pandas series\n",
    "importances = pd.Series(importances, index=features.columns)\n",
    "\n",
    "#Sort importances\n",
    "importances = importances.sort_values(ascending=False)"
   ]
  },
  {
   "cell_type": "code",
   "execution_count": 24,
   "id": "sublime-treasurer",
   "metadata": {},
   "outputs": [
    {
     "data": {
      "text/plain": [
       "Text(0, 0.5, 'Metrics')"
      ]
     },
     "execution_count": 24,
     "metadata": {},
     "output_type": "execute_result"
    },
    {
     "data": {
      "image/png": "[encoded data removed]",
      "text/plain": [
       "<Figure size 720x360 with 1 Axes>"
      ]
     },
     "metadata": {
      "needs_background": "light"
     },
     "output_type": "display_data"
    }
   ],
   "source": [
    "fig = plt.figure(figsize=(10,5))\n",
    "plt.bar(importances.index, importances)\n",
    "\n",
    "# x label\n",
    "plt.xlabel('Feature Importance')\n",
    "# y label\n",
    "plt.ylabel('Metrics')"
   ]
  },
  {
   "cell_type": "markdown",
   "id": "dress-navigator",
   "metadata": {},
   "source": [
    "### Ensemble "
   ]
  },
  {
   "cell_type": "markdown",
   "id": "answering-friday",
   "metadata": {},
   "source": [
    "The next step is to build an ensemble of the Random Forests. This is due to the undersampling we have done before. In order for our models to use more non failure data, and to avoid overfitting with failure data via oversampling, I keep the same amount of datapoints but build an ensemble of 10 random forests, each with the optimal parameters found before.\n",
    "\n",
    "Once these trees are built, we use a hard-voting system to determine the class, meaning we run the same prediction across all of the models, and take the majority vote as to what the predicted class is."
   ]
  },
  {
   "cell_type": "code",
   "execution_count": 25,
   "id": "challenging-foster",
   "metadata": {},
   "outputs": [],
   "source": [
    "#function to train and return a trained model\n",
    "def train_model(x_train, y_train):\n",
    "    forest = RandomForestClassifier(bootstrap= False,\n",
    "                             max_depth= 50,\n",
    "                             min_samples_leaf= 1,\n",
    "                             min_samples_split= 2,\n",
    "                             n_estimators= 200)\n",
    "    \n",
    "    #Train model on data\n",
    "    forest.fit(x_train, y_train)\n",
    "    \n",
    "    return forest"
   ]
  },
  {
   "cell_type": "code",
   "execution_count": 26,
   "id": "exceptional-yeast",
   "metadata": {},
   "outputs": [],
   "source": [
    "#function to create an ensemble\n",
    "def build_ensemble(x_train, y_train):\n",
    "    #Create list to store models\n",
    "    ENSEMBLE_MODELS = 10\n",
    "    ensemble = []\n",
    "    #Iterate over number of models in ensemble\n",
    "    for _ in range(ENSEMBLE_MODELS):\n",
    "        #Use same code for preparing data#Set number of expected datapoints\n",
    "\n",
    "        #Undersample Non-Failure Data\n",
    "        non_failure_indicies = np.where(y_train == 0)[0]\n",
    "\n",
    "        #Sample non failure indicies\n",
    "        non_failure_indicies = np.random.choice(non_failure_indicies, EXPECTED_DATAPOINTS)\n",
    "\n",
    "        #Collect all failure data\n",
    "        failure_indicies = np.where(y_train == 1)[0]\n",
    "\n",
    "        #Filter data to limited non failure and all failure data\n",
    "        x_train_ensemble = x_train.iloc[np.append(non_failure_indicies, failure_indicies)]\n",
    "        y_train_ensemble = y_train.iloc[np.append(non_failure_indicies, failure_indicies)]\n",
    "\n",
    "        #Oversample Failure Data using SMOTE\n",
    "        oversample = SMOTE()\n",
    "        x_train_ensemble, y_train_ensemble = oversample.fit_resample(x_train_ensemble, y_train_ensemble)\n",
    "        \n",
    "        #train model using previous data\n",
    "        forest = train_model(x_train_ensemble, y_train_ensemble)\n",
    "\n",
    "        #Store model in ensemble\n",
    "        ensemble.append(forest)\n",
    "    \n",
    "    return ensemble"
   ]
  },
  {
   "cell_type": "code",
   "execution_count": 27,
   "id": "armed-sleeping",
   "metadata": {},
   "outputs": [],
   "source": [
    "#Split data\n",
    "x_train, x_test, y_train, y_test = train_test_split(features, target, random_state=42)\n",
    "\n",
    "#Build Ensemble\n",
    "ensemble = build_ensemble(x_train, y_train)"
   ]
  },
  {
   "cell_type": "markdown",
   "id": "convertible-catalog",
   "metadata": {},
   "source": [
    "Below is a sample of ensemble prediction:"
   ]
  },
  {
   "cell_type": "code",
   "execution_count": 28,
   "id": "interim-contractor",
   "metadata": {},
   "outputs": [],
   "source": [
    "for i in range(x_test.shape[0]):\n",
    "    \n",
    "    #set sample datapoint\n",
    "    datapoint = x_test.iloc[i].values\n",
    "\n",
    "    predictions = []\n",
    "\n",
    "    #Go over all models in our ensemble\n",
    "    for model in ensemble:\n",
    "        #Get Prediction\n",
    "        prediction = model.predict([datapoint])[0]\n",
    "\n",
    "        #Store prediction\n",
    "        predictions.append(prediction)\n",
    "    if pd.unique(predictions).shape[0] > 1:\n",
    "        break"
   ]
  },
  {
   "cell_type": "markdown",
   "id": "indie-evanescence",
   "metadata": {},
   "source": [
    "Below we see the predictions from all models:"
   ]
  },
  {
   "cell_type": "code",
   "execution_count": 29,
   "id": "underlying-training",
   "metadata": {},
   "outputs": [
    {
     "data": {
      "text/plain": [
       "[1, 0, 0, 0, 1, 0, 0, 1, 0, 0]"
      ]
     },
     "execution_count": 29,
     "metadata": {},
     "output_type": "execute_result"
    }
   ],
   "source": [
    "predictions"
   ]
  },
  {
   "cell_type": "code",
   "execution_count": 30,
   "id": "standing-struggle",
   "metadata": {},
   "outputs": [],
   "source": [
    "#Get Max Prediction and probability of failure\n",
    "prediction = np.argmax(np.bincount(predictions))\n",
    "Prediction_probability = sum(predictions)/10"
   ]
  },
  {
   "cell_type": "markdown",
   "id": "legitimate-service",
   "metadata": {},
   "source": [
    "Predicted value and failure probability:"
   ]
  },
  {
   "cell_type": "code",
   "execution_count": 31,
   "id": "confidential-blair",
   "metadata": {
    "scrolled": true
   },
   "outputs": [
    {
     "name": "stdout",
     "output_type": "stream",
     "text": [
      "Predicted Class :  0\n",
      "Probability of failure :  0.3\n"
     ]
    }
   ],
   "source": [
    "print(\"Predicted Class :  \"+ str(prediction))\n",
    "print(\"Probability of failure :  \" + str(Prediction_probability))\n"
   ]
  },
  {
   "cell_type": "markdown",
   "id": "alternative-apparel",
   "metadata": {},
   "source": [
    "### Ensemble Metrics "
   ]
  },
  {
   "cell_type": "markdown",
   "id": "talented-settle",
   "metadata": {},
   "source": [
    "Below we see the results of the ensemble"
   ]
  },
  {
   "cell_type": "markdown",
   "id": "experienced-mobile",
   "metadata": {},
   "source": [
    "**Validation**"
   ]
  },
  {
   "cell_type": "markdown",
   "id": "stuck-firewall",
   "metadata": {},
   "source": [
    "For validation, we use RepeatedStratifiedKFold validation using AUC as our metric"
   ]
  },
  {
   "cell_type": "code",
   "execution_count": 33,
   "id": "assigned-pizza",
   "metadata": {},
   "outputs": [],
   "source": [
    "ENSEMBLE_MODELS = 10\n",
    "\n",
    "#Split data\n",
    "x_train, x_test, y_train, y_test = train_test_split(features, target, random_state=42)\n",
    "\n",
    "validation_scores = []\n",
    "validation_roc_curves = []\n",
    "\n",
    "#Prepare Repeated StratifiedKFold with 10 splits each with 10 repeats\n",
    "rskf = RepeatedStratifiedKFold(n_splits=10,n_repeats=10,)\n",
    "\n",
    "#Prepare False Postitive Rate as a linespace between 0 and 1\n",
    "val_false_positive_rates = np.linspace(0, 1, 100)\n",
    "for train_index, validation_index in rskf.split(x_train, y_train):\n",
    "    #Create list to store models\n",
    "    ensemble = []\n",
    "    \n",
    "    #Take out Validation Set\n",
    "    x_train_fold, x_val_fold = x_train.iloc[train_index], x_train.iloc[validation_index]\n",
    "    y_train_fold, y_val_fold = y_train.iloc[train_index], y_train.iloc[validation_index]\n",
    "    \n",
    "    \n",
    "    #Build Ensemble\n",
    "    ensemble = build_ensemble(x_train_fold, y_train_fold)\n",
    "    \n",
    "    #Predict validation values\n",
    "    ensemble_probabilites = []\n",
    "\n",
    "    for model_index, model in enumerate(ensemble):\n",
    "        #Get Prediction\n",
    "        probabilites = model.predict_proba(x_val_fold)[:, 1]\n",
    "\n",
    "        ensemble_probabilites.append(probabilites)\n",
    "    \n",
    "    #Conver probabilities to array\n",
    "    ensemble_probabilites = np.array(ensemble_probabilites)\n",
    "    \n",
    "    #Calculate AUC score for validation spplit\n",
    "    val_roc_score = roc_auc_score(y_val_fold, ensemble_probabilites.mean(axis=0))\n",
    "    \n",
    "    #Get ROC curve for validation split\n",
    "    roc_data = roc_curve(y_val_fold, ensemble_probabilites.mean(axis=0))\n",
    "    \n",
    "    #Save into respective lists\n",
    "    validation_roc_curves.append(np.interp(val_false_positive_rates, roc_data[0], roc_data[1]))\n",
    "    validation_scores.append(val_roc_score)\n",
    "\n",
    "#Convert to true positive rates\n",
    "val_true_positive_rates = np.array(validation_roc_curves).mean(axis=0)"
   ]
  },
  {
   "cell_type": "markdown",
   "id": "miniature-budget",
   "metadata": {},
   "source": [
    "**Test**"
   ]
  },
  {
   "cell_type": "code",
   "execution_count": 34,
   "id": "destroyed-activation",
   "metadata": {},
   "outputs": [],
   "source": [
    "#Split data\n",
    "x_train, x_test, y_train, y_test = train_test_split(features, target, random_state=42)\n",
    "\n",
    "#Build Ensemble\n",
    "ensemble = build_ensemble(x_train, y_train)"
   ]
  },
  {
   "cell_type": "code",
   "execution_count": 35,
   "id": "three-parish",
   "metadata": {},
   "outputs": [],
   "source": [
    "#Predict Test values\n",
    "ensemble_predictions = []\n",
    "\n",
    "for model_index, model in enumerate(ensemble):\n",
    "    #Get Prediction\n",
    "    predictions = model.predict_proba(x_test)[:, 1]\n",
    "\n",
    "    ensemble_predictions.append(predictions)\n",
    "ensemble_predictions = np.array(ensemble_predictions)"
   ]
  },
  {
   "cell_type": "code",
   "execution_count": 36,
   "id": "stopped-transportation",
   "metadata": {},
   "outputs": [],
   "source": [
    "test_roc_score = roc_auc_score(y_test, ensemble_predictions.mean(axis=0))"
   ]
  },
  {
   "cell_type": "code",
   "execution_count": 37,
   "id": "biblical-warning",
   "metadata": {},
   "outputs": [
    {
     "data": {
      "text/plain": [
       "<matplotlib.legend.Legend at 0x2060d1c1490>"
      ]
     },
     "execution_count": 37,
     "metadata": {},
     "output_type": "execute_result"
    },
    {
     "data": {
      "image/png": "[encoded data removed]",
      "text/plain": [
       "<Figure size 1080x720 with 1 Axes>"
      ]
     },
     "metadata": {
      "needs_background": "light"
     },
     "output_type": "display_data"
    }
   ],
   "source": [
    "fig = plt.figure(figsize=(15,10))\n",
    "plt.plot(val_false_positive_rates, val_true_positive_rates, label=f\"Mean Validation AUC: {np.mean(validation_scores)}\",  linestyle='--', color=\"Orange\", linewidth=3)\n",
    "#Get Upper and Lower STD for validation std\n",
    "std = np.std(np.array(validation_roc_curves), axis=0)\n",
    "tprs_upper = np.minimum(val_true_positive_rates + std, 1)\n",
    "tprs_lower = np.maximum(val_true_positive_rates - std, 0)\n",
    "plt.fill_between(val_false_positive_rates, tprs_lower, tprs_upper, color='grey', alpha=.2,\n",
    "                 label=r'$\\pm$ 1 std. dev.')\n",
    "\n",
    "#Plot Base 0,1 line\n",
    "plt.plot([0,1], [0,1], linestyle='--', color='blue', linewidth=3)\n",
    "\n",
    "# x label\n",
    "plt.xlabel('False Positive Rate')\n",
    "# y label\n",
    "plt.ylabel('True Positive rate')\n",
    "plt.legend(loc='best')"
   ]
  },
  {
   "cell_type": "code",
   "execution_count": 38,
   "id": "talented-original",
   "metadata": {},
   "outputs": [
    {
     "data": {
      "text/plain": [
       "(0.0, 1.0)"
      ]
     },
     "execution_count": 38,
     "metadata": {},
     "output_type": "execute_result"
    },
    {
     "data": {
      "image/png": "[encoded data removed]",
      "text/plain": [
       "<Figure size 360x360 with 1 Axes>"
      ]
     },
     "metadata": {
      "needs_background": "light"
     },
     "output_type": "display_data"
    }
   ],
   "source": [
    "fig = plt.figure(figsize=(5,5))\n",
    "plt.bar([\"Validation AUC\", \"Test AUC\"], [np.mean(validation_scores), test_roc_score])\n",
    "\n",
    "plt.title('Ensemble Metrics')\n",
    "# x label\n",
    "plt.xlabel('Data Split')\n",
    "# y label\n",
    "plt.ylabel('AUC')\n",
    "plt.ylim(0,1)"
   ]
  },
  {
   "cell_type": "markdown",
   "id": "mature-mother",
   "metadata": {},
   "source": [
    "### Model Saving "
   ]
  },
  {
   "cell_type": "code",
   "execution_count": 39,
   "id": "coastal-airfare",
   "metadata": {},
   "outputs": [],
   "source": [
    "MODEL_DIR = \"Saved Models/\"\n",
    "\n",
    "#Iterate over all of the models in ensemble\n",
    "for index, model in enumerate(ensemble):\n",
    "    \n",
    "    #Get Model Name\n",
    "    model_name = f\"{MODEL_DIR}forest_model_{index+1}.sav\"\n",
    "    \n",
    "    #Save model\n",
    "    joblib.dump(model, model_name)"
   ]
  },
  {
   "cell_type": "markdown",
   "id": "cosmetic-farmer",
   "metadata": {},
   "source": [
    "### Model Hosting "
   ]
  },
  {
   "cell_type": "markdown",
   "id": "ready-suite",
   "metadata": {},
   "source": [
    "For hosting our model, and building an API through it, we use popular hosting library flask.\n",
    "\n",
    "We set up our service in server.py, we follow conventional flask documentation outlined in:\n",
    "\n",
    "https://flask.palletsprojects.com/en/1.1.x/quickstart/"
   ]
  },
  {
   "cell_type": "markdown",
   "id": "wrapped-league",
   "metadata": {},
   "source": [
    "Our Project structure will look like this:\n",
    "\n",
    "-> project dir/  \n",
    "&nbsp;&nbsp;&nbsp;&nbsp;&nbsp;&nbsp;->analytics.py  \n",
    "&nbsp;&nbsp;&nbsp;&nbsp;&nbsp;&nbsp;->utils.py  \n",
    "&nbsp;&nbsp;&nbsp;&nbsp;&nbsp;&nbsp;->server.py    \n",
    "&nbsp;&nbsp;&nbsp;&nbsp;&nbsp;&nbsp;->uwsgi.ini  \n",
    "&nbsp;&nbsp;&nbsp;&nbsp;&nbsp;&nbsp;-> Saved Models/  \n",
    "&nbsp;&nbsp;&nbsp;&nbsp;&nbsp;&nbsp;&nbsp;&nbsp;&nbsp;&nbsp;&nbsp;&nbsp;-> forest_model_1.sav  \n",
    "&nbsp;&nbsp;&nbsp;&nbsp;&nbsp;&nbsp;&nbsp;&nbsp;&nbsp;&nbsp;&nbsp;&nbsp;-> forest_model_2.sav  \n",
    "&nbsp;&nbsp;&nbsp;&nbsp;&nbsp;&nbsp;&nbsp;&nbsp;&nbsp;&nbsp;&nbsp;&nbsp;-> forest_model_3.sav  \n",
    "&nbsp;&nbsp;&nbsp;&nbsp;&nbsp;&nbsp;&nbsp;&nbsp;&nbsp;&nbsp;&nbsp;&nbsp;-> forest_model_4.sav  \n",
    "&nbsp;&nbsp;&nbsp;&nbsp;&nbsp;&nbsp;&nbsp;&nbsp;&nbsp;&nbsp;&nbsp;&nbsp;-> forest_model_5.sav  \n",
    "&nbsp;&nbsp;&nbsp;&nbsp;&nbsp;&nbsp;&nbsp;&nbsp;&nbsp;&nbsp;&nbsp;&nbsp;-> forest_model_6.sav  \n",
    "&nbsp;&nbsp;&nbsp;&nbsp;&nbsp;&nbsp;&nbsp;&nbsp;&nbsp;&nbsp;&nbsp;&nbsp;-> forest_model_7.sav  \n",
    "&nbsp;&nbsp;&nbsp;&nbsp;&nbsp;&nbsp;&nbsp;&nbsp;&nbsp;&nbsp;&nbsp;&nbsp;-> forest_model_8.sav  \n",
    "&nbsp;&nbsp;&nbsp;&nbsp;&nbsp;&nbsp;&nbsp;&nbsp;&nbsp;&nbsp;&nbsp;&nbsp;-> forest_model_9.sav  \n",
    "&nbsp;&nbsp;&nbsp;&nbsp;&nbsp;&nbsp;&nbsp;&nbsp;&nbsp;&nbsp;&nbsp;&nbsp;-> forest_model_10.sav"
   ]
  },
  {
   "cell_type": "markdown",
   "id": "charming-compression",
   "metadata": {},
   "source": [
    "**utils.py**"
   ]
  },
  {
   "cell_type": "markdown",
   "id": "frozen-tournament",
   "metadata": {},
   "source": [
    "utils.py holds functionality that is not analysis or server related, therefore it has miscellaneous data/model loading functions:"
   ]
  },
  {
   "cell_type": "code",
   "execution_count": 40,
   "id": "major-hamilton",
   "metadata": {},
   "outputs": [],
   "source": [
    "#Loading Models\n",
    "def load_ensemble(model_dir):\n",
    "    ensemble = []\n",
    "    for model_file in os.listdir(model_dir):\n",
    "        model = joblib.load(f\"{model_dir}{model_file}\")\n",
    "        ensemble.append(model)\n",
    "\n",
    "    return ensemble"
   ]
  },
  {
   "cell_type": "markdown",
   "id": "progressive-anthropology",
   "metadata": {},
   "source": [
    "load_models takes the ensemble saved files as input and loads the models, storing them into a list"
   ]
  },
  {
   "cell_type": "code",
   "execution_count": 41,
   "id": "dried-singapore",
   "metadata": {},
   "outputs": [],
   "source": [
    "#Saves trained model\n",
    "def save_model(model, model_dir, model_name):\n",
    "    joblib.dump(model, model_dir + model_name)"
   ]
  },
  {
   "cell_type": "markdown",
   "id": "opposed-newark",
   "metadata": {},
   "source": [
    "save_model saves a single model"
   ]
  },
  {
   "cell_type": "code",
   "execution_count": 42,
   "id": "approved-translation",
   "metadata": {},
   "outputs": [],
   "source": [
    "#Loading Data\n",
    "def load_data(data_dir):\n",
    "    data_extension = data_dir.split(\".\")[-1]\n",
    "    #Check extension type\n",
    "    if data_extension == \"csv\":\n",
    "        df = pd.read_csv(data_dir)\n",
    "    elif data_extension == \"tsv\":\n",
    "        df = pd.read_csv(data_dir, sep=\"\\t\")\n",
    "    else:\n",
    "        df = pd.read_excel(data_dir)\n",
    "\n",
    "    return df"
   ]
  },
  {
   "cell_type": "markdown",
   "id": "sustainable-associate",
   "metadata": {},
   "source": [
    "load_data loads the excel/csv/tsv file and returns a pandas dataframe"
   ]
  },
  {
   "cell_type": "code",
   "execution_count": 43,
   "id": "moved-patch",
   "metadata": {},
   "outputs": [],
   "source": [
    "#Normalizing data\n",
    "def normalize_data(df):\n",
    "    for column in df:\n",
    "        # Start MinMaxScaler\n",
    "        scaler = MinMaxScaler()\n",
    "\n",
    "        # Fit Scaler on column\n",
    "        scaler.fit(df[column].values.reshape(-1, 1))\n",
    "\n",
    "        # Replace column data with transformed data\n",
    "        df[column] = scaler.transform(df[column].values.reshape(-1, 1))\n",
    "\n",
    "    return df"
   ]
  },
  {
   "cell_type": "markdown",
   "id": "informal-update",
   "metadata": {},
   "source": [
    "normalize_data applies a min max scaler to each of the feature columns in the provided dataframe"
   ]
  },
  {
   "cell_type": "code",
   "execution_count": 44,
   "id": "historical-indianapolis",
   "metadata": {},
   "outputs": [],
   "source": [
    "#Preprocessing data\n",
    "def preproccess_data(df, target_col, feature_col_filter):\n",
    "    #Get Target column\n",
    "    target = df[target_col]\n",
    "\n",
    "    #Get feature columns\n",
    "    features = df[[i for i in df.columns if feature_col_filter in i]]\n",
    "    #Normalize Features\n",
    "    features = normalize_data(features)\n",
    "\n",
    "    #Imbalanced data\n",
    "    # Undersample Non-Failure Data\n",
    "    non_failure_indicies = np.where(target == 0)[0]\n",
    "\n",
    "    # Sample non failure indicies\n",
    "    non_failure_indicies = np.random.choice(non_failure_indicies, EXPECTED_DATAPOINTS)\n",
    "\n",
    "    # Collect all failure data\n",
    "    failure_indicies = np.where(target == 1)[0]\n",
    "\n",
    "    # Filter data to limited non failure and all failure data\n",
    "    features = features.iloc[np.append(non_failure_indicies, failure_indicies)]\n",
    "    target = target.iloc[np.append(non_failure_indicies, failure_indicies)]\n",
    "\n",
    "    # Oversample Failure Data using SMOTE\n",
    "    oversample = SMOTE()\n",
    "    features, target = oversample.fit_resample(features, target)\n",
    "\n",
    "    return features, target"
   ]
  },
  {
   "cell_type": "markdown",
   "id": "essential-bridge",
   "metadata": {},
   "source": [
    "preproccess_data applies all balancing techniques used before."
   ]
  },
  {
   "cell_type": "markdown",
   "id": "invisible-suite",
   "metadata": {},
   "source": [
    "**analytics.py**"
   ]
  },
  {
   "cell_type": "markdown",
   "id": "conventional-distribution",
   "metadata": {},
   "source": [
    "analytics.py holds all analysis related functionality, this encompasses model predicting, data exploration and basic analysis. "
   ]
  },
  {
   "cell_type": "code",
   "execution_count": 45,
   "id": "stainless-judgment",
   "metadata": {},
   "outputs": [],
   "source": [
    "#Function to make prediction with ensemble\n",
    "def ensebmle_predict(ensemble, features):\n",
    "    predictions = []\n",
    "\n",
    "    # Go over all models in our ensemble\n",
    "    for model in ensemble:\n",
    "        # Get Prediction\n",
    "        prediction = model.predict([features])[0]\n",
    "\n",
    "        # Store prediction\n",
    "        predictions.append(prediction)\n",
    "\n",
    "    # Get Max Prediction\n",
    "    prediction = np.argmax(np.bincount(predictions))\n",
    "    return prediction"
   ]
  },
  {
   "cell_type": "markdown",
   "id": "transsexual-volume",
   "metadata": {},
   "source": [
    "ensemble_predict takes in the stored models in the ensemble and makes a prediction."
   ]
  },
  {
   "cell_type": "code",
   "execution_count": 46,
   "id": "grateful-sound",
   "metadata": {},
   "outputs": [],
   "source": [
    "#Function to train new model on provided data\n",
    "def train_model(features, target):\n",
    "    forest = RandomForestClassifier(bootstrap=False,\n",
    "                                    max_depth=20,\n",
    "                                    max_features='auto',\n",
    "                                    min_samples_leaf=1,\n",
    "                                    min_samples_split=2,\n",
    "                                    n_estimators=600)\n",
    "\n",
    "    forest.fit(features, target)\n",
    "\n",
    "    return forest"
   ]
  },
  {
   "cell_type": "markdown",
   "id": "first-turkey",
   "metadata": {},
   "source": [
    "train_model builds one random forest with the provided features and target datapoints."
   ]
  },
  {
   "cell_type": "code",
   "execution_count": 47,
   "id": "monetary-teach",
   "metadata": {},
   "outputs": [],
   "source": [
    "#Loads data,\n",
    "def train_ensemble(data_file, model_dir, number_of_models=10):\n",
    "\n",
    "    #Iterating over number of models in ensemble\n",
    "    for index in range(number_of_models):\n",
    "        #laod data into df\n",
    "        df = load_data(data_file)\n",
    "\n",
    "        #prerpocess data\n",
    "        features, target = preproccess_data(df, TARGET_COLUMN, FEATURE_FILTER)\n",
    "\n",
    "        model = train_model(features, target)\n",
    "\n",
    "        save_model(model, model_dir, f\"forest_model_{index+1}.sav\")\n"
   ]
  },
  {
   "cell_type": "markdown",
   "id": "bronze-manner",
   "metadata": {},
   "source": [
    "train_ensemble is the root function that builds and trains all models in the ensemble, it calls the following functions\n",
    "- load_data()\n",
    "- preprocess_data()\n",
    "- train_model()\n",
    "- save_model()"
   ]
  },
  {
   "cell_type": "markdown",
   "id": "incorporate-phrase",
   "metadata": {},
   "source": [
    "**server.py**"
   ]
  },
  {
   "cell_type": "markdown",
   "id": "choice-reduction",
   "metadata": {},
   "source": [
    "Imports and app startup:"
   ]
  },
  {
   "cell_type": "code",
   "execution_count": 76,
   "id": "other-material",
   "metadata": {},
   "outputs": [],
   "source": [
    "from flask import Flask, request, jsonify\n",
    "from utils import load_ensemble\n",
    "from analytics import ensebmle_predict, TARGET_COLUMN, FEATURE_FILTER\n",
    "import json\n",
    "\n",
    "app = Flask(__name__)"
   ]
  },
  {
   "cell_type": "markdown",
   "id": "dried-bumper",
   "metadata": {},
   "source": [
    "Our server uses load_ensemble function from utils to load in the saved models."
   ]
  },
  {
   "cell_type": "code",
   "execution_count": 88,
   "id": "authorized-redhead",
   "metadata": {},
   "outputs": [],
   "source": [
    "#Load Ensemble\n",
    "enseble = load_ensemble(MODEL_DIR)"
   ]
  },
  {
   "cell_type": "markdown",
   "id": "metric-allowance",
   "metadata": {},
   "source": [
    "In order to call our service, we need to use the python requests library, and embed our features in a dictionary, then jsonify that dictionary for the request to understand it. "
   ]
  },
  {
   "cell_type": "markdown",
   "id": "electric-stephen",
   "metadata": {},
   "source": [
    "Now that our server is prepared, and we can pass data through it. We use the ensemble_predict function from analytics.py and return the output as a json response."
   ]
  },
  {
   "cell_type": "markdown",
   "id": "dimensional-folks",
   "metadata": {},
   "source": [
    "To ensure our server can run at any time, we create a wsgi configuration. This is done in a file called uswgi.ini. this routes our application configuration in the correct way. The following is the configuration that is set up:"
   ]
  },
  {
   "cell_type": "markdown",
   "id": "multiple-zambia",
   "metadata": {},
   "source": [
    "### Docker Building "
   ]
  },
  {
   "cell_type": "markdown",
   "id": "split-counter",
   "metadata": {},
   "source": [
    "For best practice, our service is then dockerized, this means that the tool is put into a package that contains all project files and dependencies so it can be easily run anywhere. It builds the project with all dependencies and requirements, making it run the same on any device or system. It builds this tool in a virtual environment."
   ]
  },
  {
   "cell_type": "markdown",
   "id": "global-romantic",
   "metadata": {},
   "source": [
    "In order to do this, two files are created, first our **requirements.txt**. This tells the environment exactly what library dependencies are being used:\n",
    "\n",
    "- numpy == 1.19.5\n",
    "- flask == 1.1.2\n",
    "- joblib == 1.0.0\n",
    "- scikit-learn == 0.24.1\n",
    "- pandas == 1.2.0\n",
    "- imbalanced-learn == 0.8.0\n",
    "\n",
    "in requirements.txt"
   ]
  },
  {
   "cell_type": "markdown",
   "id": "offshore-massachusetts",
   "metadata": {},
   "source": [
    "The second is the **Dockerfile**, this outlines the steps docker should follow when building our project.  "
   ]
  },
  {
   "cell_type": "markdown",
   "id": "interracial-designer",
   "metadata": {},
   "source": [
    "FROM python:3.8   \n",
    "lets docker know which version of python it should install in this environment\n",
    "\n",
    "COPY ./requirements.txt .  \n",
    "creates a copy of our requirements.txt in the docker environment, allowing it to read the file\n",
    "\n",
    "RUN pip install --upgrade pip  \n",
    "RUN pip install -r requirements.txt  \n",
    "These two lines install pip (Pip Installs Packages) and all the requirements listed in requirements.txt in the virtual environment\n",
    "\n",
    "EXPOSE 80  \n",
    "\n",
    "COPY . .  \n",
    "CMP python3 server.py  \n",
    "Finally we copy all files found in the directory to be able read from, and we run the command line command \"python3 server.py\" which will host our tool."
   ]
  },
  {
   "cell_type": "markdown",
   "id": "great-quantity",
   "metadata": {},
   "source": [
    "In order to run the docker container, we need to first **build** then **run** it.  \n",
    "\n",
    "To build it, we follow the following command format:  \n",
    "docker build -t [project name] [directory]  \n",
    "\n",
    "which when translated becomes:  \n",
    "docker build -t application_name ."
   ]
  },
  {
   "cell_type": "markdown",
   "id": "boring-conviction",
   "metadata": {},
   "source": [
    "Then to run the application, run the following command:\n",
    "\n",
    "docker run -p 5000:5000 application_name (expose app to 5000, the flask run port)"
   ]
  },
  {
   "cell_type": "markdown",
   "id": "impressive-thirty",
   "metadata": {},
   "source": [
    "### Server Connection "
   ]
  },
  {
   "cell_type": "markdown",
   "id": "closed-indonesian",
   "metadata": {},
   "source": [
    "The server is set up on an AWS EC2 t2.micro instance. The public ip address for the instance is **18.221.149.92**. So in order to connect to it we use the same request setup used for local."
   ]
  },
  {
   "cell_type": "code",
   "execution_count": 78,
   "id": "dietary-prefix",
   "metadata": {},
   "outputs": [],
   "source": [
    "#Code used to call api\n",
    "response = requests.post(\"http://18.221.149.92:5000/\", data=json.dumps(sample_data))"
   ]
  },
  {
   "cell_type": "code",
   "execution_count": 79,
   "id": "experienced-version",
   "metadata": {},
   "outputs": [
    {
     "data": {
      "text/plain": [
       "<Response [200]>"
      ]
     },
     "execution_count": 79,
     "metadata": {},
     "output_type": "execute_result"
    }
   ],
   "source": [
    "response"
   ]
  },
  {
   "cell_type": "code",
   "execution_count": 80,
   "id": "sensitive-distance",
   "metadata": {},
   "outputs": [
    {
     "data": {
      "text/plain": [
       "{'prediction': '0'}"
      ]
     },
     "execution_count": 80,
     "metadata": {},
     "output_type": "execute_result"
    }
   ],
   "source": [
    "json.loads(response.content)"
   ]
  },
  {
   "cell_type": "markdown",
   "id": "d497c4c4",
   "metadata": {},
   "source": [
    "### Below is a demonstration of the tool:"
   ]
  },
  {
   "cell_type": "code",
   "execution_count": 2,
   "id": "464e438d",
   "metadata": {},
   "outputs": [
    {
     "name": "stdout",
     "output_type": "stream",
     "text": [
      "Tool prediction is: 1, actual value is 1\n"
     ]
    }
   ],
   "source": [
    "# This is a tool to test prediction\n",
    "\n",
    "import pandas as pd\n",
    "import requests\n",
    "import json\n",
    "from sklearn.preprocessing import MinMaxScaler\n",
    "\n",
    "#Load Dataframe\n",
    "df = pd.read_csv(\"Data/predictive_maintenance.csv\")\n",
    "\n",
    "# Iterate over all columns in dataframe\n",
    "for column in df:\n",
    "    # Check if column contains \"metric\" inside of it\n",
    "    if \"metric\" in column:\n",
    "        # Start MinMaxScaler\n",
    "        scaler = MinMaxScaler()\n",
    "\n",
    "        # Fit Scaler on column\n",
    "        scaler.fit(df[column].values.reshape(-1, 1))\n",
    "\n",
    "        # Replace column data with transformed data\n",
    "        df[column] = scaler.transform(df[column].values.reshape(-1, 1))\n",
    "\n",
    "#Filter features to those with metric in the name of column\n",
    "features = df[[i for i in df.columns if \"metric\" in i ]]\n",
    "\n",
    "#Exctract failure column as target\n",
    "target = df[\"failure\"]\n",
    "\n",
    "#Drop metric7 due to perfect correlation with metric8\n",
    "features = features.drop(\"metric7\", axis = 1)\n",
    "\n",
    "data_sample = features.iloc[0]\n",
    "data_sample = {\"features\":list(data_sample)}\n",
    "\n",
    "#Code used to call api\n",
    "response = requests.post(\"http://18.221.149.92:5000/\", data=json.dumps(data_sample))\n",
    "\n",
    "print(f\"Tool prediction is: {json.loads(response.content)['prediction']}, actual value is {target.iloc[0]}\")"
   ]
  }
 ],
 "metadata": {
  "kernelspec": {
   "display_name": "Python 3",
   "language": "python",
   "name": "python3"
  },
  "language_info": {
   "codemirror_mode": {
    "name": "ipython",
    "version": 3
   },
   "file_extension": ".py",
   "mimetype": "text/x-python",
   "name": "python",
   "nbconvert_exporter": "python",
   "pygments_lexer": "ipython3",
   "version": "3.8.8"
  }
 },
 "nbformat": 4,
 "nbformat_minor": 5
}